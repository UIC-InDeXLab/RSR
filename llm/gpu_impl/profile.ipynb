{
 "cells": [
  {
   "cell_type": "code",
   "execution_count": 1,
   "metadata": {},
   "outputs": [],
   "source": [
    "import sys\n",
    "sys.path.insert(1, \"..\")\n",
    "sys.path.insert(2, \"../..\")\n",
    "\n",
    "import tqdm\n",
    "import torch\n",
    "import pandas as pd;\n",
    "from transformers import LlamaForCausalLM, PreTrainedTokenizerFast\n",
    "from huggingface_hub import login\n",
    "import time\n",
    "import os\n",
    "import re\n",
    "import random\n",
    "\n",
    "from patch_gpu import *"
   ]
  },
  {
   "cell_type": "code",
   "execution_count": 2,
   "metadata": {},
   "outputs": [],
   "source": [
    "DEVICE = \"cuda\" # cpu or cuda\n",
    "METHOD = \"RSR\" # RSR or Naive\n",
    "MODEL = \"tiiuae/Falcon3-10B-Instruct-1.58bit\" # [HF1BitLLM/Llama3-8B-1.58-100B-tokens, tiiuae/Falcon3-3B-Instruct-1.58bit]\n",
    "TOKENIZER = \"tiiuae/Falcon3-10B-Instruct-1.58bit\" # [meta-llama/Meta-Llama-3-8B-Instruct, tiiuae/Falcon3-3B-Instruct-1.58bit]"
   ]
  },
  {
   "cell_type": "code",
   "execution_count": 3,
   "metadata": {},
   "outputs": [],
   "source": [
    "# Don't run this cell if you want to see the 'Optimized Standard Inference'\n",
    "apply_patch(method=METHOD)"
   ]
  },
  {
   "cell_type": "code",
   "execution_count": null,
   "metadata": {},
   "outputs": [],
   "source": [
    "if DEVICE == \"cpu\":\n",
    "    os.environ[\"CUDA_VISIBLE_DEVICES\"] = ''\n",
    "    \n",
    "os.environ[\"HF_TOKEN\"]=\"\"\n",
    "print(\"cuda available? \", torch.cuda.is_available())"
   ]
  },
  {
   "cell_type": "code",
   "execution_count": null,
   "metadata": {},
   "outputs": [],
   "source": [
    "hf_token = os.getenv(\"HF_TOKEN\")\n",
    "login(token=hf_token)\n",
    "device = torch.device(DEVICE)\n",
    "\n",
    "model = LlamaForCausalLM.from_pretrained(MODEL, \n",
    "                                         device_map=DEVICE, \n",
    "                                         torch_dtype=torch.bfloat16).to(device)\n",
    "tokenizer = PreTrainedTokenizerFast.from_pretrained(TOKENIZER)"
   ]
  },
  {
   "cell_type": "markdown",
   "metadata": {},
   "source": [
    "### Inference"
   ]
  },
  {
   "cell_type": "code",
   "execution_count": 6,
   "metadata": {},
   "outputs": [],
   "source": [
    "def infer(prompt, max_length=20, tokens_to_generate=1):\n",
    "    start_time = time.time()\n",
    "    input_ids = tokenizer.encode(prompt, return_tensors=\"pt\").to(device)#.cuda()\n",
    "    output = model.generate(input_ids, max_length=max_length, do_sample=False, max_new_tokens=tokens_to_generate);\n",
    "    generated_text = tokenizer.decode(output[0], skip_special_tokens=True);\n",
    "    print(f\"{prompt} --> {generated_text}\")\n",
    "    return {\n",
    "        \"time\": time.time() - start_time,\n",
    "        \"response\": generated_text,\n",
    "        \"device\": DEVICE,\n",
    "        \"method\": METHOD\n",
    "    }"
   ]
  },
  {
   "cell_type": "code",
   "execution_count": null,
   "metadata": {},
   "outputs": [],
   "source": [
    "infer(prompt=\"France\")"
   ]
  },
  {
   "cell_type": "markdown",
   "metadata": {},
   "source": [
    "### Extract Report"
   ]
  },
  {
   "cell_type": "code",
   "execution_count": 4,
   "metadata": {},
   "outputs": [],
   "source": [
    "pattern = r'(RSR|Standard) time: (\\d*\\.?\\d+(?:[eE][-+]?\\d+)?)'\n",
    "\n",
    "with open(\"output.txt\", \"r\") as f: # output.txt is the output log of 'inference' cell\n",
    "    lines = f.readlines()\n",
    "    \n",
    "result = []\n",
    "\n",
    "for line in lines:\n",
    "    match = re.search(pattern, line)\n",
    "    if match:\n",
    "        type = match.group(1)\n",
    "        time = float(match.group(2))\n",
    "        result.append({\n",
    "            \"method\": type,\n",
    "            \"time\": time\n",
    "        })"
   ]
  },
  {
   "cell_type": "code",
   "execution_count": 5,
   "metadata": {},
   "outputs": [
    {
     "data": {
      "text/html": [
       "<div>\n",
       "<style scoped>\n",
       "    .dataframe tbody tr th:only-of-type {\n",
       "        vertical-align: middle;\n",
       "    }\n",
       "\n",
       "    .dataframe tbody tr th {\n",
       "        vertical-align: top;\n",
       "    }\n",
       "\n",
       "    .dataframe thead th {\n",
       "        text-align: right;\n",
       "    }\n",
       "</style>\n",
       "<table border=\"1\" class=\"dataframe\">\n",
       "  <thead>\n",
       "    <tr style=\"text-align: right;\">\n",
       "      <th></th>\n",
       "      <th>method</th>\n",
       "      <th>time</th>\n",
       "    </tr>\n",
       "  </thead>\n",
       "  <tbody>\n",
       "    <tr>\n",
       "      <th>0</th>\n",
       "      <td>RSR</td>\n",
       "      <td>0.000256</td>\n",
       "    </tr>\n",
       "    <tr>\n",
       "      <th>1</th>\n",
       "      <td>Standard</td>\n",
       "      <td>0.000263</td>\n",
       "    </tr>\n",
       "    <tr>\n",
       "      <th>2</th>\n",
       "      <td>RSR</td>\n",
       "      <td>0.000182</td>\n",
       "    </tr>\n",
       "    <tr>\n",
       "      <th>3</th>\n",
       "      <td>Standard</td>\n",
       "      <td>0.000063</td>\n",
       "    </tr>\n",
       "    <tr>\n",
       "      <th>4</th>\n",
       "      <td>RSR</td>\n",
       "      <td>0.000210</td>\n",
       "    </tr>\n",
       "  </tbody>\n",
       "</table>\n",
       "</div>"
      ],
      "text/plain": [
       "     method      time\n",
       "0       RSR  0.000256\n",
       "1  Standard  0.000263\n",
       "2       RSR  0.000182\n",
       "3  Standard  0.000063\n",
       "4       RSR  0.000210"
      ]
     },
     "execution_count": 5,
     "metadata": {},
     "output_type": "execute_result"
    }
   ],
   "source": [
    "result = pd.DataFrame(result)\n",
    "result.head()"
   ]
  },
  {
   "cell_type": "code",
   "execution_count": null,
   "metadata": {},
   "outputs": [],
   "source": [
    "result[result[\"method\"] == \"RSR\"][\"time\"].describe()"
   ]
  },
  {
   "cell_type": "code",
   "execution_count": null,
   "metadata": {},
   "outputs": [],
   "source": [
    "result[result[\"method\"] == \"Standard\"][\"time\"].describe()"
   ]
  },
  {
   "cell_type": "code",
   "execution_count": 7,
   "metadata": {},
   "outputs": [],
   "source": [
    "result.to_csv(\"falcon_times_report.csv\", index=0)"
   ]
  }
 ],
 "metadata": {
  "kernelspec": {
   "display_name": ".venv",
   "language": "python",
   "name": "python3"
  },
  "language_info": {
   "codemirror_mode": {
    "name": "ipython",
    "version": 3
   },
   "file_extension": ".py",
   "mimetype": "text/x-python",
   "name": "python",
   "nbconvert_exporter": "python",
   "pygments_lexer": "ipython3",
   "version": "3.10.15"
  }
 },
 "nbformat": 4,
 "nbformat_minor": 2
}
