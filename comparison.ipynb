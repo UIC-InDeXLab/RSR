{
 "cells": [
  {
   "cell_type": "code",
   "execution_count": 1,
   "id": "711212ce-bafe-4cef-b47d-ec8857aa474d",
   "metadata": {
    "ExecuteTime": {
     "end_time": "2024-10-05T06:31:43.947389Z",
     "start_time": "2024-10-05T06:31:43.529819Z"
    }
   },
   "outputs": [],
   "source": [
    "import random\n",
    "import math\n",
    "import itertools\n",
    "import numpy as np\n",
    "import time\n",
    "import matplotlib.pyplot as plt\n",
    "from collections import defaultdict"
   ]
  },
  {
   "cell_type": "code",
   "execution_count": 2,
   "id": "53c43ec7-40f7-4080-b31b-d494f73202ab",
   "metadata": {
    "ExecuteTime": {
     "end_time": "2024-10-05T06:31:44.360315Z",
     "start_time": "2024-10-05T06:31:44.357005Z"
    }
   },
   "outputs": [],
   "source": [
    "def generate_random_matrix(n):\n",
    "    return [[random.choice([0, 1]) for _ in range(n)] for _ in range(n)]\n",
    "\n",
    "\n",
    "def generate_random_vector(n, max_element=100):\n",
    "    return [random.randint(0, max_element) for _ in range(n)] "
   ]
  },
  {
   "cell_type": "code",
   "execution_count": 3,
   "id": "0cb61c1a-dda1-4aed-a396-37ea16fde422",
   "metadata": {
    "ExecuteTime": {
     "end_time": "2024-10-05T06:31:45.155967Z",
     "start_time": "2024-10-05T06:31:45.153002Z"
    }
   },
   "outputs": [],
   "source": [
    "def multiply_vector_matrix(v, matrix):\n",
    "    n = len(v)\n",
    "    result = [0] * len(matrix[0])\n",
    "\n",
    "    for i in range(len(matrix[0])):\n",
    "        result[i] = sum(v[j] * matrix[j][i] for j in range(len(matrix)))\n",
    "\n",
    "    return result"
   ]
  },
  {
   "cell_type": "code",
   "execution_count": 4,
   "id": "c8ffcb64-6392-4147-84af-bde37ebc597a",
   "metadata": {
    "ExecuteTime": {
     "start_time": "2024-10-05T06:31:46.145452Z"
    },
    "jupyter": {
     "is_executing": true
    }
   },
   "outputs": [
    {
     "name": "stdout",
     "output_type": "stream",
     "text": [
      "CPU times: user 18.3 s, sys: 192 ms, total: 18.4 s\n",
      "Wall time: 18.4 s\n"
     ]
    }
   ],
   "source": [
    "%%time\n",
    "n = 2 ** 13\n",
    "v, M = generate_random_vector(n), generate_random_matrix(n)"
   ]
  },
  {
   "cell_type": "code",
   "execution_count": 5,
   "id": "3f9c2dfd-f478-4252-9ab6-be79209f9342",
   "metadata": {},
   "outputs": [
    {
     "name": "stdout",
     "output_type": "stream",
     "text": [
      "CPU times: user 6.08 s, sys: 7.92 ms, total: 6.09 s\n",
      "Wall time: 6.08 s\n"
     ]
    }
   ],
   "source": [
    "%%time\n",
    "result = multiply_vector_matrix(v, M)"
   ]
  },
  {
   "cell_type": "code",
   "execution_count": 6,
   "id": "96823cfe-2f1e-4a13-9983-091541c81011",
   "metadata": {},
   "outputs": [
    {
     "data": {
      "text/plain": [
       "9"
      ]
     },
     "execution_count": 6,
     "metadata": {},
     "output_type": "execute_result"
    }
   ],
   "source": [
    "k = int(math.log(n, 2) - math.log(math.log(n, 2), 2))\n",
    "k"
   ]
  },
  {
   "cell_type": "code",
   "execution_count": 7,
   "id": "e8612d8e-3d86-4e46-b10d-529a1e5ca973",
   "metadata": {},
   "outputs": [],
   "source": [
    "def bucket_sort_rows(matrix):\n",
    "    n, k = len(matrix), len(matrix[0])\n",
    "    bucket = defaultdict(list)\n",
    "\n",
    "    for row_tuple in itertools.product([0, 1], repeat=k):\n",
    "        bucket[row_tuple] = []  # Create an empty list for each combination\n",
    "\n",
    "    for i in range(n):\n",
    "        row_tuple = tuple(matrix[i])\n",
    "        bucket[row_tuple].append(i)\n",
    "\n",
    "    sorted_indices = []\n",
    "    for row_tuple in sorted(bucket):\n",
    "        sorted_indices.append(tuple(bucket[row_tuple]))\n",
    "\n",
    "    return sorted_indices\n",
    "\n",
    "def preprocess(matrix, k):\n",
    "    n = len(matrix)\n",
    "    m = len(matrix[0])  # Assuming all rows have the same number of columns\n",
    "\n",
    "    print(\"Original number of rows:\", n)\n",
    "    print(\"Number of columns:\", m)\n",
    "    \n",
    "    # Check if m is divisible by k, if not, determine how many additional columns are needed\n",
    "    additional_columns = 0\n",
    "    if m % k != 0:\n",
    "        additional_columns = k - (m % k)\n",
    "        print(\"Additional columns needed:\", additional_columns)\n",
    "\n",
    "    # Create a new matrix with zero columns added\n",
    "    new_matrix = [row + [0] * additional_columns for row in matrix]\n",
    "\n",
    "    sorted_indices = []\n",
    "    print(\"New number of columns:\", len(new_matrix[0]))\n",
    "\n",
    "    for split_idx in range(0, len(new_matrix[0]), k):\n",
    "        submatrix = [row[split_idx:split_idx + k] for row in new_matrix]\n",
    "        indices = bucket_sort_rows(submatrix)\n",
    "        sorted_indices.append(indices)\n",
    "\n",
    "    return sorted_indices, additional_columns\n",
    "\n",
    "\n",
    "# Example: \n",
    "# matrix_example = [\n",
    "#     [1, 0, 0, 1, 0, 1],\n",
    "#     [0, 0, 1, 0, 1, 1],\n",
    "#     [1, 1, 1, 0, 0, 0],\n",
    "#     [0, 1, 1, 0, 1, 0],\n",
    "#     [1, 0, 1, 0, 1, 0],\n",
    "#     [0, 0, 0, 1, 1, 1]\n",
    "# ]\n",
    "# \n",
    "# k_example = 2\n",
    "# sorted_indices = preprocess(matrix_example, k_example)\n",
    "# sorted_indices"
   ]
  },
  {
   "cell_type": "code",
   "execution_count": 8,
   "id": "9b056224-d7d3-4486-855f-169c49306564",
   "metadata": {},
   "outputs": [
    {
     "name": "stdout",
     "output_type": "stream",
     "text": [
      "Original number of rows: 8192\n",
      "Number of columns: 8192\n",
      "Additional columns needed: 7\n",
      "New number of columns: 8199\n",
      "CPU times: user 46 s, sys: 276 ms, total: 46.3 s\n",
      "Wall time: 46.3 s\n"
     ]
    }
   ],
   "source": [
    "%%time\n",
    "permutations, additional_columns = preprocess(M, k)"
   ]
  },
  {
   "cell_type": "code",
   "execution_count": 9,
   "id": "e3f09b30-4708-45ed-8b2f-263b7d267013",
   "metadata": {},
   "outputs": [],
   "source": [
    "def generate_binary_matrix(k):\n",
    "    results = []\n",
    "    for row_tuple in itertools.product([0, 1], repeat=k):\n",
    "        results.append(list(row_tuple))\n",
    "    return results\n",
    "\n",
    "\n",
    "def smart_multiplication(v, k, permutations, additional_columns):\n",
    "    results = []\n",
    "    binary_matrix = generate_binary_matrix(k)\n",
    "\n",
    "    for perm in permutations:\n",
    "        new_v = []\n",
    "        for t in perm:\n",
    "            if not t:\n",
    "                new_v.append(0)\n",
    "            else:\n",
    "                # Sum values of v at the indices specified in the current tuple\n",
    "                segment_sum = sum(v[i] for i in t)\n",
    "                new_v.append(segment_sum)\n",
    "        results.extend(multiply_vector_matrix(new_v, binary_matrix))\n",
    "\n",
    "    return results[:-additional_columns]"
   ]
  },
  {
   "cell_type": "code",
   "execution_count": 10,
   "id": "6188aedd-a9c2-405c-8ced-f136cef1a880",
   "metadata": {},
   "outputs": [
    {
     "name": "stdout",
     "output_type": "stream",
     "text": [
      "CPU times: user 880 ms, sys: 0 ns, total: 880 ms\n",
      "Wall time: 879 ms\n"
     ]
    }
   ],
   "source": [
    "%%time\n",
    "res = smart_multiplication(v, k, permutations, additional_columns)"
   ]
  },
  {
   "cell_type": "code",
   "execution_count": 11,
   "id": "4593f86b-1144-4d77-8213-ea2a5bd544c2",
   "metadata": {},
   "outputs": [],
   "source": [
    "assert res == result, \"The two lists are not equal!\""
   ]
  },
  {
   "cell_type": "markdown",
   "id": "c533a775-922c-4370-90bc-69bab3333e53",
   "metadata": {},
   "source": [
    "## Evaluation"
   ]
  },
  {
   "cell_type": "code",
   "execution_count": null,
   "id": "05dd0f61-9a1d-4f0a-8cd8-492703f019cd",
   "metadata": {},
   "outputs": [
    {
     "name": "stdout",
     "output_type": "stream",
     "text": [
      "Original number of rows: 256\n",
      "Number of columns: 256\n",
      "Additional columns needed: 4\n",
      "New number of columns: 260\n",
      "Original number of rows: 512\n",
      "Number of columns: 512\n",
      "Additional columns needed: 3\n",
      "New number of columns: 515\n",
      "Original number of rows: 1024\n",
      "Number of columns: 1024\n",
      "Additional columns needed: 2\n",
      "New number of columns: 1026\n",
      "Original number of rows: 2048\n",
      "Number of columns: 2048\n",
      "Additional columns needed: 3\n",
      "New number of columns: 2051\n",
      "Original number of rows: 4096\n",
      "Number of columns: 4096\n",
      "New number of columns: 4096\n"
     ]
    }
   ],
   "source": [
    "sizes = [2**i for i in range(8, 14)]\n",
    "multiply_times = []\n",
    "smart_multiply_times = []\n",
    "preprocess_times = []\n",
    "\n",
    "for n in sizes:\n",
    "    v = generate_random_vector(n)\n",
    "    M = generate_random_matrix(n)\n",
    "    k = int(math.log(n, 2) - math.log(math.log(n, 2), 2))\n",
    "\n",
    "    # Measure multiply_vector_matrix\n",
    "    multiply_runtime = []\n",
    "    for _ in range(4):\n",
    "        start_time = time.time()\n",
    "        result = multiply_vector_matrix(v, M)\n",
    "        multiply_runtime.append(time.time() - start_time)\n",
    "\n",
    "    multiply_times.append(np.mean(multiply_runtime))\n",
    "\n",
    "    # Measure smart_multiplication\n",
    "    start_time = time.time()\n",
    "    permutations, additional_columns = preprocess(M, k)\n",
    "    preprocess_times.append(time.time() - start_time)\n",
    "\n",
    "    smart_multiply_runtime = []\n",
    "    for _ in range(4):\n",
    "        start_time = time.time()\n",
    "        res = smart_multiplication(v, k, permutations, additional_columns)\n",
    "        smart_multiply_runtime.append(time.time() - start_time)\n",
    "\n",
    "    smart_multiply_times.append(np.mean(smart_multiply_runtime))"
   ]
  },
  {
   "cell_type": "code",
   "execution_count": 13,
   "id": "bc565821-3142-41cf-895e-9453dadc5873",
   "metadata": {},
   "outputs": [
    {
     "data": {
      "image/png": "[encoded data removed]",
      "text/plain": [
       "<Figure size 1000x600 with 1 Axes>"
      ]
     },
     "metadata": {},
     "output_type": "display_data"
    }
   ],
   "source": [
    "plt.figure(figsize=(10, 6))\n",
    "plt.plot(sizes, multiply_times, label='multiply_vector_matrix', marker='o')\n",
    "plt.plot(sizes, smart_multiply_times, label='smart_multiplication', marker='x')\n",
    "plt.plot(sizes, preprocess_times, label='smart_multiplication', marker='x')\n",
    "plt.xscale('log', base=2)\n",
    "plt.xlabel('Size (n)')\n",
    "plt.ylabel('Time (seconds)')\n",
    "plt.title('Runtime Comparison of Methods')\n",
    "plt.legend()\n",
    "plt.grid(True)\n",
    "plt.show()"
   ]
  },
  {
   "cell_type": "code",
   "execution_count": null,
   "id": "fc8394b7-2c72-4908-af2f-8acbfa3103a5",
   "metadata": {},
   "outputs": [],
   "source": []
  }
 ],
 "metadata": {
  "kernelspec": {
   "display_name": "Python 3 (ipykernel)",
   "language": "python",
   "name": "python3"
  },
  "language_info": {
   "codemirror_mode": {
    "name": "ipython",
    "version": 3
   },
   "file_extension": ".py",
   "mimetype": "text/x-python",
   "name": "python",
   "nbconvert_exporter": "python",
   "pygments_lexer": "ipython3",
   "version": "3.12.6"
  }
 },
 "nbformat": 4,
 "nbformat_minor": 5
}
