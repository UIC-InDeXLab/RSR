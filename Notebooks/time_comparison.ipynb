{
 "cells": [
  {
   "cell_type": "code",
   "execution_count": 1,
   "id": "initial_id",
   "metadata": {
    "collapsed": true
   },
   "outputs": [],
   "source": [
    "import sys\n",
    "sys.path.insert(0, '..')\n",
    "\n",
    "from multipliers import (\n",
    "    NaiveMultiplier, \n",
    "    RSRBinaryMultiplier, \n",
    "    RSRTernaryMultiplier,\n",
    "    RSRPlusPlusBinaryMultiplier,\n",
    "    RSRPlusPlusTernaryMultiplier\n",
    ")\n",
    "\n",
    "import math\n",
    "import matplotlib.pyplot as plt\n",
    "from matplotlib.ticker import LogLocator\n",
    "\n",
    "import numpy as np\n",
    "import pandas as pd\n",
    "import seaborn as sns"
   ]
  },
  {
   "cell_type": "code",
   "execution_count": 2,
   "id": "c8c20108",
   "metadata": {},
   "outputs": [],
   "source": [
    "def generate_random_binary_matrix(n):\n",
    "    # Generate a random binary matrix of size n x n\n",
    "    binary_matrix = np.random.randint(2, size=(n, n))\n",
    "    return binary_matrix\n",
    "\n",
    "def generate_random_ternary_matrix(n):\n",
    "    ternary_matrix = np.random.randint(low=-1, high=2, size=(n, n))\n",
    "    return ternary_matrix\n",
    "\n",
    "def generate_random_int_vector(size, low=0, high=100):\n",
    "    random_vector = np.random.randint(low, high, size)\n",
    "    return random_vector"
   ]
  },
  {
   "cell_type": "code",
   "execution_count": 8,
   "id": "6d4ce159",
   "metadata": {},
   "outputs": [],
   "source": [
    "n_s = [2**i for i in range(11, 17)]"
   ]
  },
  {
   "cell_type": "code",
   "execution_count": 9,
   "id": "322469ae",
   "metadata": {},
   "outputs": [],
   "source": [
    "vectors = [generate_random_int_vector(n) for n in n_s]\n",
    "binary_matrices = [generate_random_binary_matrix(n) for n in n_s]\n",
    "#ternary_matrices = [generate_random_ternary_matrix(n) for n in n_s]"
   ]
  },
  {
   "cell_type": "code",
   "execution_count": 10,
   "id": "678e1852",
   "metadata": {},
   "outputs": [],
   "source": [
    "k_optimals = {\n",
    "    \"rsrpp\" : [5, 6, 8, 8, 9, 10],\n",
    "    \"rsr\": [4, 4, 5, 6, 6, 6]\n",
    "}"
   ]
  },
  {
   "cell_type": "markdown",
   "id": "b942920c",
   "metadata": {},
   "source": [
    "## Binary"
   ]
  },
  {
   "cell_type": "code",
   "execution_count": 11,
   "id": "678d1f00",
   "metadata": {},
   "outputs": [
    {
     "name": "stdout",
     "output_type": "stream",
     "text": [
      "k: 4 | 1 / 2\n",
      "rsr: 13.5 ms ± 42.7 μs per loop (mean ± std. dev. of 4 runs, 100 loops each)\n",
      "k: 4 | 2 / 2\n",
      "rsr: 33.7 ms ± 151 μs per loop (mean ± std. dev. of 4 runs, 10 loops each)\n",
      "k: 5 | 1 / 2\n",
      "rsrpp: 19.1 ms ± 56.5 μs per loop (mean ± std. dev. of 4 runs, 100 loops each)\n",
      "k: 6 | 2 / 2\n",
      "rsrpp: 47.1 ms ± 108 μs per loop (mean ± std. dev. of 4 runs, 10 loops each)\n",
      "naive: 22.8 ms ± 68.2 μs per loop (mean ± std. dev. of 4 runs, 10 loops each)\n",
      "naive: 147 ms ± 358 μs per loop (mean ± std. dev. of 4 runs, 10 loops each)\n",
      "Vector length: 2048 | Naive time: 0.022676 seconds | RSR time: 0.013405 seconds | RSRPP time: 0.019047\n",
      "Vector length: 4096 | Naive time: 0.146511 seconds | RSR time: 0.033453 seconds | RSRPP time: 0.046914\n"
     ]
    }
   ],
   "source": [
    "naive_times = []\n",
    "rsr_times = []\n",
    "rsrpp_times = []\n",
    "\n",
    "\n",
    "    \n",
    "for i, (v, A) in enumerate(zip(vectors, binary_matrices)):\n",
    "    print(f\"k: {k_optimals.get(\"rsr\")[i]} | {i + 1} / {len(n_s)}\")\n",
    "    rsr = RSRBinaryMultiplier(A, k=k_optimals.get(\"rsr\")[i])\n",
    "\n",
    "    print(\"rsr: \", end=\"\")\n",
    "    rsr_time = %timeit -r 4 -o rsr.multiply(v)  \n",
    "    rsr_times.append(rsr_time.best)  \n",
    "\n",
    "for i, (v, A) in enumerate(zip(vectors, binary_matrices)):\n",
    "    print(f\"k: {k_optimals.get(\"rsrpp\")[i]} | {i + 1} / {len(n_s)}\")\n",
    "    rsrpp = RSRPlusPlusBinaryMultiplier(A, k=k_optimals.get(\"rsrpp\")[i])\n",
    "\n",
    "    print(\"rsrpp: \", end=\"\")\n",
    "    rsrpp_time = %timeit -r 4 -o rsrpp.multiply(v)\n",
    "    rsrpp_times.append(rsrpp_time.best)\n",
    "\n",
    "\n",
    "for i, (v, A) in enumerate(zip(vectors, binary_matrices)):\n",
    "    naive = NaiveMultiplier(A)\n",
    "    \n",
    "    print(\"naive: \", end=\"\")\n",
    "    \n",
    "    naive_time = %timeit -r 4 -o naive.multiply(v)\n",
    "    naive_times.append(naive_time.best) \n",
    "\n",
    "naive_times = np.array(naive_times)\n",
    "rsr_times = np.array(rsr_times)\n",
    "rsrpp_times = np.array(rsrpp_times)\n",
    "\n",
    "for length, naive_time, rsr_time, rsrpp_time in zip([len(v) for v in vectors], naive_times, rsr_times, rsrpp_times):\n",
    "    print(f\"Vector length: {length} | Naive time: {naive_time:.6f} seconds | RSR time: {rsr_time:.6f} seconds | RSRPP time: {rsrpp_time:.6f}\")\n"
   ]
  },
  {
   "cell_type": "code",
   "execution_count": 12,
   "id": "6fb15e80",
   "metadata": {},
   "outputs": [
    {
     "name": "stdout",
     "output_type": "stream",
     "text": [
      "Execution times saved to reports/numpy_binary_times_2.csv\n"
     ]
    }
   ],
   "source": [
    "vector_lengths = np.array(n_s) \n",
    "\n",
    "data = {\n",
    "    'n': vector_lengths,\n",
    "    'standard': naive_times,\n",
    "    'rsr': rsr_times,\n",
    "    'rsrpp': rsrpp_times\n",
    "}\n",
    "df = pd.DataFrame(data)\n",
    "\n",
    "# Save the DataFrame to a CSV file\n",
    "output_file = 'reports/numpy_binary_times_2.csv'\n",
    "df.to_csv(output_file, index=False)\n",
    "\n",
    "print(f\"Execution times saved to {output_file}\")\n"
   ]
  },
  {
   "cell_type": "markdown",
   "id": "79dbb147",
   "metadata": {},
   "source": [
    "## Ternary"
   ]
  },
  {
   "cell_type": "code",
   "execution_count": 5,
   "id": "b5e8c310",
   "metadata": {},
   "outputs": [
    {
     "name": "stdout",
     "output_type": "stream",
     "text": [
      "k: 3 | 1 / 5\n",
      "rsr: 27 ms ± 37.1 μs per loop (mean ± std. dev. of 4 runs, 10 loops each)\n",
      "k: 4 | 2 / 5\n",
      "rsr: 66.4 ms ± 209 μs per loop (mean ± std. dev. of 4 runs, 10 loops each)\n",
      "k: 5 | 3 / 5\n",
      "rsr: 179 ms ± 611 μs per loop (mean ± std. dev. of 4 runs, 10 loops each)\n",
      "k: 6 | 4 / 5\n",
      "rsr: 559 ms ± 548 μs per loop (mean ± std. dev. of 4 runs, 1 loop each)\n",
      "k: 7 | 5 / 5\n",
      "rsr: 1.9 s ± 3.53 ms per loop (mean ± std. dev. of 4 runs, 1 loop each)\n",
      "k: 3 | 1 / 5\n",
      "rsrpp: 44.7 ms ± 98.8 μs per loop (mean ± std. dev. of 4 runs, 10 loops each)\n",
      "k: 4 | 2 / 5\n",
      "rsrpp: 91.4 ms ± 401 μs per loop (mean ± std. dev. of 4 runs, 10 loops each)\n",
      "k: 5 | 3 / 5\n",
      "rsrpp: 218 ms ± 1.56 ms per loop (mean ± std. dev. of 4 runs, 1 loop each)\n",
      "k: 6 | 4 / 5\n",
      "rsrpp: 606 ms ± 2.3 ms per loop (mean ± std. dev. of 4 runs, 1 loop each)\n",
      "k: 7 | 5 / 5\n",
      "rsrpp: 1.93 s ± 4.54 ms per loop (mean ± std. dev. of 4 runs, 1 loop each)\n",
      "k: 11.0 | 1 / 5\n",
      "naive: 35.6 ms ± 442 μs per loop (mean ± std. dev. of 4 runs, 10 loops each)\n",
      "k: 12.0 | 2 / 5\n",
      "naive: 185 ms ± 990 μs per loop (mean ± std. dev. of 4 runs, 10 loops each)\n",
      "k: 13.0 | 3 / 5\n",
      "naive: 912 ms ± 1.14 ms per loop (mean ± std. dev. of 4 runs, 1 loop each)\n",
      "k: 14.0 | 4 / 5\n",
      "naive: 4.95 s ± 1.04 ms per loop (mean ± std. dev. of 4 runs, 1 loop each)\n",
      "k: 15.0 | 5 / 5\n",
      "naive: 22.1 s ± 1.79 ms per loop (mean ± std. dev. of 4 runs, 1 loop each)\n",
      "Vector length: 2048 | Naive time: 0.034848 seconds | RSR time: 0.026927 seconds | RSRPP time: 0.044613\n",
      "Vector length: 4096 | Naive time: 0.183773 seconds | RSR time: 0.066143 seconds | RSRPP time: 0.090871\n",
      "Vector length: 8192 | Naive time: 0.911058 seconds | RSR time: 0.178093 seconds | RSRPP time: 0.215893\n",
      "Vector length: 16384 | Naive time: 4.951304 seconds | RSR time: 0.558071 seconds | RSRPP time: 0.603187\n",
      "Vector length: 32768 | Naive time: 22.091646 seconds | RSR time: 1.892647 seconds | RSRPP time: 1.924907\n"
     ]
    }
   ],
   "source": [
    "naive_times_ternay = []\n",
    "rsr_times_ternary = []\n",
    "rsrpp_times_ternary = []\n",
    "\n",
    "\n",
    "    \n",
    "for i, (v, A) in enumerate(zip(vectors, ternary_matrices)):\n",
    "    k = max(int(math.log2(n_s[i]) - math.log(math.log2(n_s[i]))) - 5, 3)\n",
    "    print(f\"k: {k} | {i + 1} / {len(n_s)}\")\n",
    "    rsr = RSRTernaryMultiplier(A, k=k)\n",
    "\n",
    "    print(\"rsr: \", end=\"\")\n",
    "    rsr_time = %timeit -r 4 -o rsr.multiply(v)  \n",
    "    rsr_times_ternary.append(rsr_time.best)  \n",
    "\n",
    "for i, (v, A) in enumerate(zip(vectors, ternary_matrices)):\n",
    "    k = max(int(math.log2(n_s[i]) - math.log(math.log2(n_s[i]))) - 5, 3)\n",
    "    print(f\"k: {k} | {i + 1} / {len(n_s)}\")\n",
    "    rsrpp = RSRPlusPlusTernaryMultiplier(A, k=k)\n",
    "\n",
    "    print(\"rsrpp: \", end=\"\")\n",
    "    rsrpp_time = %timeit -r 4 -o rsrpp.multiply(v)\n",
    "    rsrpp_times_ternary.append(rsrpp_time.best)\n",
    "\n",
    "\n",
    "for i, (v, A) in enumerate(zip(vectors, ternary_matrices)):\n",
    "    print(f\"k: {math.log2(n_s[i])} | {i + 1} / {len(n_s)}\")\n",
    "    naive = NaiveMultiplier(A)\n",
    "    \n",
    "    print(\"naive: \", end=\"\")\n",
    "    \n",
    "    naive_time = %timeit -r 4 -o naive.multiply(v)\n",
    "    naive_times_ternay.append(naive_time.best) \n",
    "\n",
    "naive_times_ternay = np.array(naive_times_ternay)\n",
    "rsr_times_ternary = np.array(rsr_times_ternary)\n",
    "rsrpp_times_ternary = np.array(rsrpp_times_ternary)\n",
    "\n",
    "for length, naive_time, rsr_time, rsrpp_time in zip([len(v) for v in vectors], naive_times_ternay, rsr_times_ternary, rsrpp_times_ternary):\n",
    "    print(f\"Vector length: {length} | Naive time: {naive_time:.6f} seconds | RSR time: {rsr_time:.6f} seconds | RSRPP time: {rsrpp_time:.6f}\")\n"
   ]
  },
  {
   "cell_type": "code",
   "execution_count": 25,
   "id": "e0577754",
   "metadata": {},
   "outputs": [
    {
     "name": "stdout",
     "output_type": "stream",
     "text": [
      "Execution times saved to multiplication_times_ternary_plus.csv\n"
     ]
    }
   ],
   "source": [
    "\n",
    "vector_lengths = np.array(n_s)  # Length of each vector\n",
    "\n",
    "# speedup_ternary = naive_times_ternary / rsr_times_ternary\n",
    "\n",
    "\n",
    "# Assuming vector_lengths, naive_times, and rsr_times are defined from the previous code\n",
    "# Convert data to a DataFrame\n",
    "data = {\n",
    "    'Vector Length': vector_lengths,\n",
    "    'Naive Time (s)': naive_times_ternary,\n",
    "    'RSR Time (s)': rsr_times_ternary,\n",
    "    'RSR PP': rsr_pp_times_ternary\n",
    "}\n",
    "df = pd.DataFrame(data)\n",
    "\n",
    "# Save the DataFrame to a CSV file\n",
    "output_file = 'multiplication_times_ternary_plus.csv'\n",
    "df.to_csv(output_file, index=False)\n",
    "\n",
    "print(f\"Execution times saved to {output_file}\")\n"
   ]
  },
  {
   "cell_type": "code",
   "execution_count": null,
   "id": "44454f35",
   "metadata": {},
   "outputs": [],
   "source": []
  }
 ],
 "metadata": {
  "kernelspec": {
   "display_name": "venv",
   "language": "python",
   "name": "python3"
  },
  "language_info": {
   "codemirror_mode": {
    "name": "ipython",
    "version": 3
   },
   "file_extension": ".py",
   "mimetype": "text/x-python",
   "name": "python",
   "nbconvert_exporter": "python",
   "pygments_lexer": "ipython3",
   "version": "3.12.6"
  }
 },
 "nbformat": 4,
 "nbformat_minor": 5
}
