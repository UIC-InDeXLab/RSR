{
 "cells": [
  {
   "cell_type": "code",
   "execution_count": 6,
   "metadata": {},
   "outputs": [],
   "source": [
    "import sys\n",
    "sys.path.insert(0, '..')\n",
    "\n",
    "from multipliers import (\n",
    "    NaiveMultiplier, \n",
    "    RSRBinaryMultiplier, \n",
    "    RSRTernaryMultiplier,\n",
    "    RSRPlusPlusBinaryMultiplier,\n",
    "    RSRPlusPlusTernaryMultiplier\n",
    ")\n",
    "\n",
    "import math\n",
    "import random\n",
    "import time\n",
    "from functools import wraps\n",
    "import matplotlib.pyplot as plt\n",
    "from matplotlib.ticker import LogLocator\n",
    "\n",
    "import numpy as np\n",
    "import pandas as pd\n",
    "import seaborn as sns"
   ]
  },
  {
   "cell_type": "code",
   "execution_count": 7,
   "metadata": {},
   "outputs": [],
   "source": [
    "def generate_random_binary_matrix(n):\n",
    "    # Generate a random binary matrix of size n x n\n",
    "    binary_matrix = np.random.randint(2, size=(n, n))\n",
    "    return binary_matrix\n",
    "\n",
    "def generate_random_ternary_matrix(n):\n",
    "    ternary_matrix = np.random.randint(low=-1, high=2, size=(n, n))\n",
    "    return ternary_matrix\n",
    "\n",
    "def generate_random_int_vector(size, low=0, high=100):\n",
    "    random_vector = np.random.randint(low, high, size)\n",
    "    return random_vector"
   ]
  },
  {
   "cell_type": "code",
   "execution_count": 9,
   "metadata": {},
   "outputs": [
    {
     "data": {
      "text/plain": [
       "[1, 2, 3, 4, 5, 6, 7, 8, 9, 10, 11, 12, 13, 14]"
      ]
     },
     "execution_count": 9,
     "metadata": {},
     "output_type": "execute_result"
    }
   ],
   "source": [
    "n = 2 ** 15\n",
    "k_s = [i for i in range(int(math.log(n, 2) - math.log(math.log(n, 2), 2) - 10), int(math.log(n, 2) - math.log(math.log(n, 2), 2) + 4))]\n",
    "k_s"
   ]
  },
  {
   "cell_type": "code",
   "execution_count": 10,
   "metadata": {},
   "outputs": [],
   "source": [
    "v = generate_random_int_vector(n)\n",
    "A = generate_random_binary_matrix(n)"
   ]
  },
  {
   "cell_type": "code",
   "execution_count": 11,
   "metadata": {},
   "outputs": [
    {
     "name": "stdout",
     "output_type": "stream",
     "text": [
      "k: 1 | 1 / 14\n",
      "rsr: 3.84 s ± 9.01 ms per loop (mean ± std. dev. of 3 runs, 1 loop each)\n",
      "rsrpp: 4.11 s ± 7.91 ms per loop (mean ± std. dev. of 3 runs, 1 loop each)\n",
      "k: 2 | 2 / 14\n",
      "rsr: 1.96 s ± 949 μs per loop (mean ± std. dev. of 3 runs, 1 loop each)\n",
      "rsrpp: 2.12 s ± 3.27 ms per loop (mean ± std. dev. of 3 runs, 1 loop each)\n",
      "k: 3 | 3 / 14\n",
      "rsr: 1.31 s ± 2.28 ms per loop (mean ± std. dev. of 3 runs, 1 loop each)\n",
      "rsrpp: 1.47 s ± 6.12 ms per loop (mean ± std. dev. of 3 runs, 1 loop each)\n",
      "k: 4 | 4 / 14\n",
      "rsr: 1.16 s ± 8.28 ms per loop (mean ± std. dev. of 3 runs, 1 loop each)\n",
      "rsrpp: 1.33 s ± 3.18 ms per loop (mean ± std. dev. of 3 runs, 1 loop each)\n",
      "k: 5 | 5 / 14\n",
      "rsr: 973 ms ± 4.54 ms per loop (mean ± std. dev. of 3 runs, 1 loop each)\n",
      "rsrpp: 1.12 s ± 2.39 ms per loop (mean ± std. dev. of 3 runs, 1 loop each)\n",
      "k: 6 | 6 / 14\n",
      "rsr: 934 ms ± 852 μs per loop (mean ± std. dev. of 3 runs, 1 loop each)\n",
      "rsrpp: 1.08 s ± 2.11 ms per loop (mean ± std. dev. of 3 runs, 1 loop each)\n",
      "k: 7 | 7 / 14\n",
      "rsr: 1.01 s ± 931 μs per loop (mean ± std. dev. of 3 runs, 1 loop each)\n",
      "rsrpp: 1.15 s ± 927 μs per loop (mean ± std. dev. of 3 runs, 1 loop each)\n",
      "k: 8 | 8 / 14\n",
      "rsr: 1.11 s ± 1.09 ms per loop (mean ± std. dev. of 3 runs, 1 loop each)\n",
      "rsrpp: 1.23 s ± 1.1 ms per loop (mean ± std. dev. of 3 runs, 1 loop each)\n",
      "k: 9 | 9 / 14\n",
      "rsr: 1.43 s ± 3.3 ms per loop (mean ± std. dev. of 3 runs, 1 loop each)\n",
      "rsrpp: 1.57 s ± 4.11 ms per loop (mean ± std. dev. of 3 runs, 1 loop each)\n",
      "k: 10 | 10 / 14\n",
      "rsr: 2.11 s ± 8.9 ms per loop (mean ± std. dev. of 3 runs, 1 loop each)\n",
      "rsrpp: 2.22 s ± 6.25 ms per loop (mean ± std. dev. of 3 runs, 1 loop each)\n",
      "k: 11 | 11 / 14\n",
      "rsr: 3.35 s ± 9.34 ms per loop (mean ± std. dev. of 3 runs, 1 loop each)\n",
      "rsrpp: 3.05 s ± 3.26 ms per loop (mean ± std. dev. of 3 runs, 1 loop each)\n",
      "k: 12 | 12 / 14\n",
      "rsr: 5.43 s ± 9.91 ms per loop (mean ± std. dev. of 3 runs, 1 loop each)\n",
      "rsrpp: 5.11 s ± 3.63 ms per loop (mean ± std. dev. of 3 runs, 1 loop each)\n",
      "k: 13 | 13 / 14\n",
      "rsr: 9.34 s ± 15 ms per loop (mean ± std. dev. of 3 runs, 1 loop each)\n",
      "rsrpp: 8.89 s ± 7.18 ms per loop (mean ± std. dev. of 3 runs, 1 loop each)\n",
      "k: 14 | 14 / 14\n",
      "rsr: 16.9 s ± 123 ms per loop (mean ± std. dev. of 3 runs, 1 loop each)\n",
      "rsrpp: 16 s ± 19.4 ms per loop (mean ± std. dev. of 3 runs, 1 loop each)\n",
      "k: 1 | RSR time: 3.826981 seconds | RSRPP time: 4.105134\n",
      "k: 2 | RSR time: 1.957228 seconds | RSRPP time: 2.117823\n",
      "k: 3 | RSR time: 1.305664 seconds | RSRPP time: 1.459986\n",
      "k: 4 | RSR time: 1.154256 seconds | RSRPP time: 1.325387\n",
      "k: 5 | RSR time: 0.968306 seconds | RSRPP time: 1.121682\n",
      "k: 6 | RSR time: 0.932641 seconds | RSRPP time: 1.081166\n",
      "k: 7 | RSR time: 1.010995 seconds | RSRPP time: 1.151204\n",
      "k: 8 | RSR time: 1.105701 seconds | RSRPP time: 1.231722\n",
      "k: 9 | RSR time: 1.428614 seconds | RSRPP time: 1.569484\n",
      "k: 10 | RSR time: 2.096353 seconds | RSRPP time: 2.212436\n",
      "k: 11 | RSR time: 3.340788 seconds | RSRPP time: 3.050245\n",
      "k: 12 | RSR time: 5.422227 seconds | RSRPP time: 5.102551\n",
      "k: 13 | RSR time: 9.316330 seconds | RSRPP time: 8.885853\n",
      "k: 14 | RSR time: 16.754510 seconds | RSRPP time: 15.972517\n"
     ]
    }
   ],
   "source": [
    "rsr_times = []\n",
    "rsrpp_times = []\n",
    "\n",
    "\n",
    "for i, k in enumerate(k_s): \n",
    "    print(f\"k: {k} | {i + 1} / {len(k_s)}\")\n",
    "    rsr = RSRBinaryMultiplier(A, k=k)\n",
    "    rsrpp = RSRPlusPlusBinaryMultiplier(A, k=k)\n",
    "\n",
    "    print(\"rsr: \", end=\"\")\n",
    "    rsr_time = %timeit -r 3 -o rsr.multiply(v)  \n",
    "    rsr_times.append(rsr_time.best) \n",
    "\n",
    "    print(\"rsrpp: \", end=\"\")\n",
    "    rsrpp_time = %timeit -r 3 -o rsrpp.multiply(v)\n",
    "    rsrpp_times.append(rsrpp_time.best)\n",
    "\n",
    "rsr_times = np.array(rsr_times)\n",
    "rsrpp_times = np.array(rsrpp_times)\n",
    "\n",
    "for k, rsr_time, rsrpp_time in zip(k_s, rsr_times, rsrpp_times):\n",
    "    print(f\"k: {k} | RSR time: {rsr_time:.6f} seconds | RSRPP time: {rsrpp_time:.6f}\")"
   ]
  },
  {
   "cell_type": "code",
   "execution_count": 12,
   "metadata": {},
   "outputs": [
    {
     "name": "stdout",
     "output_type": "stream",
     "text": [
      "20.5 s ± 11.5 ms per loop (mean ± std. dev. of 4 runs, 1 loop each)\n"
     ]
    },
    {
     "data": {
      "text/plain": [
       "<TimeitResult : 20.5 s ± 11.5 ms per loop (mean ± std. dev. of 4 runs, 1 loop each)>"
      ]
     },
     "execution_count": 12,
     "metadata": {},
     "output_type": "execute_result"
    }
   ],
   "source": [
    "naive = NaiveMultiplier(A)\n",
    "%timeit -r 4 -o naive.multiply(v)  "
   ]
  },
  {
   "cell_type": "code",
   "execution_count": 13,
   "metadata": {},
   "outputs": [
    {
     "name": "stdout",
     "output_type": "stream",
     "text": [
      "Execution times saved to k_comparison_n=32768.csv\n"
     ]
    }
   ],
   "source": [
    "\n",
    "data = {\n",
    "    'k': k_s,\n",
    "    'RSR Time (s)': rsr_times,\n",
    "    'RSR PP (s)': rsrpp_times\n",
    "}\n",
    "df = pd.DataFrame(data)\n",
    "\n",
    "# Save the DataFrame to a CSV file\n",
    "output_file = f'k_comparison_n={n}.csv'\n",
    "df.to_csv(output_file, index=False)\n",
    "\n",
    "print(f\"Execution times saved to {output_file}\")\n"
   ]
  },
  {
   "cell_type": "code",
   "execution_count": null,
   "metadata": {},
   "outputs": [],
   "source": []
  }
 ],
 "metadata": {
  "kernelspec": {
   "display_name": "venv",
   "language": "python",
   "name": "python3"
  },
  "language_info": {
   "codemirror_mode": {
    "name": "ipython",
    "version": 3
   },
   "file_extension": ".py",
   "mimetype": "text/x-python",
   "name": "python",
   "nbconvert_exporter": "python",
   "pygments_lexer": "ipython3",
   "version": "3.12.6"
  }
 },
 "nbformat": 4,
 "nbformat_minor": 2
}
