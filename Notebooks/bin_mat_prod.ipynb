{
 "cells": [
  {
   "cell_type": "markdown",
   "metadata": {},
   "source": [
    "This notebook is to just compare RSR and RSR++. Just the last step where the multiplication is happening for each block."
   ]
  },
  {
   "cell_type": "code",
   "execution_count": 14,
   "metadata": {},
   "outputs": [],
   "source": [
    "import sys\n",
    "sys.path.insert(0, '..')\n",
    "\n",
    "from multipliers import (\n",
    "    NaiveMultiplier, \n",
    "    RSRBinaryMultiplier, \n",
    "    RSRTernaryMultiplier,\n",
    "    RSRPlusPlusBinaryMultiplier\n",
    ")\n",
    "\n",
    "import random\n",
    "import time\n",
    "import matplotlib.pyplot as plt\n",
    "from matplotlib.ticker import LogLocator\n",
    "from tqdm import tqdm\n",
    "\n",
    "import numpy as np\n",
    "import pandas as pd\n",
    "import seaborn as sns"
   ]
  },
  {
   "cell_type": "code",
   "execution_count": 41,
   "metadata": {},
   "outputs": [
    {
     "data": {
      "text/plain": [
       "(array([26., 22., 20.]), array([26, 22, 20]))"
      ]
     },
     "execution_count": 41,
     "metadata": {},
     "output_type": "execute_result"
    }
   ],
   "source": [
    "k = 12\n",
    "\n",
    "def generate_binary_matrix(k):\n",
    "        num_rows = 2 ** k\n",
    "        binary_matrix = np.array([list(map(int, np.binary_repr(i, width=k))) for i in range(num_rows)])\n",
    "        return binary_matrix\n",
    "\n",
    "def faster_mult(segmented_sum, k):\n",
    "        result = np.empty(k)\n",
    "        for i in range(k, 0, -1):\n",
    "            result[i - 1] = np.sum(segmented_sum[1::2])\n",
    "            segmented_sum = segmented_sum[::2] + segmented_sum[1::2]\n",
    "        return result\n",
    "\n",
    "def naive(segmented_sum, bin_mat):\n",
    "    return np.dot(segmented_sum, bin_mat)\n",
    "\n",
    "faster_mult(np.array([1, 2, 3, 4, 5, 6, 7, 8]), 3), naive(np.array([1, 2, 3, 4, 5, 6, 7, 8]), generate_binary_matrix(3))"
   ]
  },
  {
   "cell_type": "code",
   "execution_count": 42,
   "metadata": {},
   "outputs": [],
   "source": [
    "ks = [12, 13, 14, 15, 16, 17, 18, 19, 20]"
   ]
  },
  {
   "cell_type": "code",
   "execution_count": 43,
   "metadata": {},
   "outputs": [
    {
     "name": "stdout",
     "output_type": "stream",
     "text": [
      "k: 12\n",
      "fast: 47.4 µs ± 328 ns per loop (mean ± std. dev. of 7 runs, 10,000 loops each)\n",
      "naive: 28.6 µs ± 91.3 ns per loop (mean ± std. dev. of 7 runs, 10,000 loops each)\n",
      "k: 13\n",
      "fast: 55.5 µs ± 136 ns per loop (mean ± std. dev. of 7 runs, 10,000 loops each)\n",
      "naive: 61.9 µs ± 165 ns per loop (mean ± std. dev. of 7 runs, 10,000 loops each)\n",
      "k: 14\n",
      "fast: 66.4 µs ± 265 ns per loop (mean ± std. dev. of 7 runs, 10,000 loops each)\n",
      "naive: 456 µs ± 543 ns per loop (mean ± std. dev. of 7 runs, 1,000 loops each)\n",
      "k: 15\n",
      "fast: 84.7 µs ± 423 ns per loop (mean ± std. dev. of 7 runs, 10,000 loops each)\n",
      "naive: 1.47 ms ± 299 ns per loop (mean ± std. dev. of 7 runs, 1,000 loops each)\n",
      "k: 16\n",
      "fast: 127 µs ± 226 ns per loop (mean ± std. dev. of 7 runs, 10,000 loops each)\n",
      "naive: 3.11 ms ± 3.95 µs per loop (mean ± std. dev. of 7 runs, 100 loops each)\n",
      "k: 17\n",
      "fast: 237 µs ± 597 ns per loop (mean ± std. dev. of 7 runs, 1,000 loops each)\n",
      "naive: 8.52 ms ± 11.7 µs per loop (mean ± std. dev. of 7 runs, 100 loops each)\n",
      "k: 18\n",
      "fast: 451 µs ± 1.1 µs per loop (mean ± std. dev. of 7 runs, 1,000 loops each)\n",
      "naive: 27.5 ms ± 43.1 µs per loop (mean ± std. dev. of 7 runs, 10 loops each)\n",
      "k: 19\n",
      "fast: 858 µs ± 564 ns per loop (mean ± std. dev. of 7 runs, 1,000 loops each)\n",
      "naive: 68.9 ms ± 55 µs per loop (mean ± std. dev. of 7 runs, 10 loops each)\n",
      "k: 20\n",
      "fast: 1.73 ms ± 2.01 µs per loop (mean ± std. dev. of 7 runs, 1,000 loops each)\n",
      "naive: 156 ms ± 229 µs per loop (mean ± std. dev. of 7 runs, 10 loops each)\n"
     ]
    }
   ],
   "source": [
    "fast_times = []\n",
    "naive_times = []\n",
    "for i in range(1):\n",
    "    for k in ks:\n",
    "        bin_k = generate_binary_matrix(k)\n",
    "        print(f\"k: {k}\")\n",
    "        vector = np.random.randint(0, 100, 2**k)\n",
    "        print(\"fast: \", end=\"\")\n",
    "        fast_time = %timeit -o faster_mult(vector, k)\n",
    "        print(\"naive: \", end=\"\")\n",
    "        naive_time = %timeit -o naive(vector, bin_k)\n",
    "        fast_times.append(fast_time.best)\n",
    "        naive_times.append(naive_time.best)"
   ]
  },
  {
   "cell_type": "code",
   "execution_count": 44,
   "metadata": {},
   "outputs": [
    {
     "data": {
      "text/plain": [
       "<matplotlib.legend.Legend at 0x7f83b5c131d0>"
      ]
     },
     "execution_count": 44,
     "metadata": {},
     "output_type": "execute_result"
    },
    {
     "data": {
      "image/png": "[encoded data removed]",
      "text/plain": [
       "<Figure size 640x480 with 1 Axes>"
      ]
     },
     "metadata": {},
     "output_type": "display_data"
    }
   ],
   "source": [
    "plt.plot(ks, naive_times, label=\"naive\")\n",
    "plt.plot(ks, fast_times, label=\"fast\")\n",
    "plt.yscale(\"log\")\n",
    "plt.legend()"
   ]
  }
 ],
 "metadata": {
  "kernelspec": {
   "display_name": "venv",
   "language": "python",
   "name": "python3"
  },
  "language_info": {
   "codemirror_mode": {
    "name": "ipython",
    "version": 3
   },
   "file_extension": ".py",
   "mimetype": "text/x-python",
   "name": "python",
   "nbconvert_exporter": "python",
   "pygments_lexer": "ipython3",
   "version": "3.11.1"
  }
 },
 "nbformat": 4,
 "nbformat_minor": 2
}
